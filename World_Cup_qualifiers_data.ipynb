{
  "nbformat": 4,
  "nbformat_minor": 0,
  "metadata": {
    "colab": {
      "name": "World Cup qualifiers data.ipynb",
      "provenance": [],
      "authorship_tag": "ABX9TyOFOItEpBeFdCeQnXairkeQ",
      "include_colab_link": true
    },
    "kernelspec": {
      "name": "python3",
      "display_name": "Python 3"
    },
    "language_info": {
      "name": "python"
    }
  },
  "cells": [
    {
      "cell_type": "markdown",
      "metadata": {
        "id": "view-in-github",
        "colab_type": "text"
      },
      "source": [
        "<a href=\"https://colab.research.google.com/github/YahiaML/World-Cup-qualifiers-data/blob/main/World_Cup_qualifiers_data.ipynb\" target=\"_parent\"><img src=\"https://colab.research.google.com/assets/colab-badge.svg\" alt=\"Open In Colab\"/></a>"
      ]
    },
    {
      "cell_type": "markdown",
      "source": [
        "#**Importing libraries**"
      ],
      "metadata": {
        "id": "NyQglEmizJtq"
      }
    },
    {
      "cell_type": "code",
      "execution_count": 1,
      "metadata": {
        "id": "bzXp4k14WTN5"
      },
      "outputs": [],
      "source": [
        "from bs4 import BeautifulSoup\n",
        "import requests\n",
        "import pandas as pd"
      ]
    },
    {
      "cell_type": "markdown",
      "source": [
        "#**Scraping qualified teams stats From foxsports.com**\n",
        "Source: https://www.foxsports.com/soccer/fifa-world-cup-men/team-stats"
      ],
      "metadata": {
        "id": "rTrq823e0DKs"
      }
    },
    {
      "cell_type": "code",
      "source": [
        "response = requests.get('https://www.foxsports.com/soccer/fifa-world-cup-men/team-stats')\n",
        "data = response.text\n",
        "soup = BeautifulSoup(data,\"html.parser\")"
      ],
      "metadata": {
        "id": "ZBY7_pm60WsA"
      },
      "execution_count": 2,
      "outputs": []
    },
    {
      "cell_type": "code",
      "source": [
        "#soup"
      ],
      "metadata": {
        "id": "DguKSuUHff1Z"
      },
      "execution_count": 48,
      "outputs": []
    },
    {
      "cell_type": "code",
      "source": [
        "Teams_stats = soup.find_all('tbody',{'class':'row-data lh-1pt43 fs-14'})"
      ],
      "metadata": {
        "id": "LUBbCm8S1bZR"
      },
      "execution_count": 6,
      "outputs": []
    },
    {
      "cell_type": "code",
      "source": [
        "#Teams_stats_list = []\n",
        "#for Team_stats in Teams_stats:\n",
        "#  Teams_stats_list = Team_stats.text.split()\n",
        "#  \n",
        "#print(Teams_stats_list)\n",
        "\n",
        "Teams_stats_list = [Team_stats.text.split() for Team_stats in Teams_stats ]\n",
        "Teams_stats_list = Teams_stats_list[0]\n",
        "print(Teams_stats_list)"
      ],
      "metadata": {
        "id": "TMwo3ktyCDJw",
        "colab": {
          "base_uri": "https://localhost:8080/"
        },
        "outputId": "da30427c-e03a-4053-d4ba-8df99473720b"
      },
      "execution_count": 35,
      "outputs": [
        {
          "output_type": "stream",
          "name": "stdout",
          "text": [
            "['1', 'Belgium', '7', '16', '12', '3', '0', '0', '0', '0', '0', '12', '1', '1', '11', '0', '0', '2', 'Croatia', '7', '14', '18', '2', '0', '0', '0', '0', '0', '8', '2', '1', '15', '0', '0', '3', 'France', '7', '14', '10', '2', '0', '0', '0', '0', '0', '6', '3', '3', '12', '0', '0', '4', 'England', '7', '12', '11', '5', '0', '0', '0', '0', '0', '6', '3', '3', '8', '0', '0', '5', 'Russia', '5', '11', '14', '3', '0', '0', '0', '0', '0', '8', '1', '1', '7', '0', '1', '6', 'Brazil', '5', '8', '6', '2', '0', '0', '0', '0', '0', '6', '0', '0', '7', '0', '0', '7', 'Spain', '4', '7', '9', '0', '0', '0', '0', '0', '0', '3', '0', '0', '2', '0', '0', '8', 'Uruguay', '5', '7', '4', '2', '0', '0', '0', '0', '0', '4', '0', '0', '3', '0', '0', '9', 'Argentina', '4', '6', '5', '1', '0', '0', '0', '0', '0', '6', '1', '0', '11', '0', '0', '10', 'Colombia', '4', '6', '6', '3', '0', '0', '0', '0', '0', '5', '0', '0', '9', '1', '0', '11', 'Japan', '4', '6', '5', '1', '0', '0', '0', '0', '0', '5', '1', '1', '5', '0', '0', '12', 'Portugal', '4', '6', '4', '2', '0', '0', '0', '0', '0', '4', '2', '1', '7', '0', '0', '13', 'Sweden', '5', '6', '5', '0', '0', '0', '0', '0', '0', '3', '2', '2', '8', '0', '0', '14', 'Switzerland', '4', '5', '4', '1', '0', '0', '0', '0', '0', '4', '0', '0', '9', '1', '0', '15', 'Tunisia', '3', '5', '4', '1', '0', '0', '0', '0', '0', '4', '1', '1', '4', '0', '0', '16', 'Senegal', '3', '4', '3', '0', '0', '0', '0', '0', '0', '1', '0', '0', '6', '0', '0', '17', 'Denmark', '4', '3', '5', '0', '0', '0', '0', '0', '0', '3', '0', '0', '3', '0', '0', '18', 'Mexico', '4', '3', '3', '0', '0', '0', '0', '0', '0', '2', '1', '1', '9', '0', '0', '19', 'Nigeria', '3', '3', '3', '0', '0', '0', '0', '0', '0', '2', '1', '1', '4', '0', '0', '20', 'South', 'Korea', '3', '3', '3', '0', '0', '0', '0', '0', '0', '2', '0', '0', '10', '0', '0', '21', 'Australia', '3', '2', '2', '0', '0', '0', '0', '0', '0', '0', '2', '2', '7', '0', '0', '22', 'Costa', 'Rica', '3', '2', '0', '1', '0', '0', '0', '0', '0', '1', '1', '0', '6', '0', '0', '23', 'Egypt', '3', '2', '2', '0', '0', '0', '0', '0', '0', '1', '1', '1', '5', '0', '0', '24', 'Germany', '3', '2', '2', '0', '0', '0', '0', '0', '0', '2', '0', '0', '3', '0', '1', '25', 'Iceland', '3', '2', '2', '0', '0', '0', '0', '0', '0', '0', '2', '1', '3', '0', '0', '26', 'Iran', '3', '2', '1', '0', '0', '0', '0', '0', '0', '0', '1', '1', '7', '0', '0', '27', 'Morocco', '3', '2', '1', '1', '0', '0', '0', '0', '0', '1', '0', '0', '8', '0', '0', '28', 'Panama', '3', '2', '1', '0', '0', '0', '0', '0', '0', '1', '0', '0', '11', '0', '0', '29', 'Peru', '3', '2', '2', '0', '0', '0', '0', '0', '0', '1', '1', '0', '5', '0', '0', '30', 'Poland', '3', '2', '1', '1', '0', '0', '0', '0', '0', '2', '0', '0', '3', '0', '0', '31', 'Saudi', 'Arabia', '3', '2', '2', '0', '0', '0', '0', '0', '0', '1', '2', '1', '1', '0', '0', '32', 'Serbia', '3', '2', '1', '1', '0', '0', '0', '0', '0', '1', '0', '0', '9', '0', '0']\n"
          ]
        }
      ]
    },
    {
      "cell_type": "markdown",
      "source": [
        "I noticed that there are some countries that their name consists of two words (South Korea, Costa Rica, Saudi Arabia), and the two words are splitted, so let's join them again"
      ],
      "metadata": {
        "id": "AX43fKQNbEyT"
      }
    },
    {
      "cell_type": "code",
      "source": [
        "to_be_removed = []    # catch the second word to delete it later\n",
        "\n",
        "for i in range(len(Teams_stats_list)):\n",
        "\n",
        "  if Teams_stats_list[i].isalpha() and Teams_stats_list[i-1].isalpha():\n",
        "    to_be_removed.append(Teams_stats_list[i])\n",
        "    Teams_stats_list[i-1] = Teams_stats_list[i-1] + \" \" + Teams_stats_list[i]\n",
        "        \n",
        "Teams_stats_list = [value for value in Teams_stats_list if value not in to_be_removed]\n",
        "\n",
        "print(to_be_removed)\n",
        "print(Teams_stats_list)"
      ],
      "metadata": {
        "colab": {
          "base_uri": "https://localhost:8080/"
        },
        "id": "Kxqo3z6GXzRA",
        "outputId": "b5e761cb-3024-47a2-90f9-f59209283d43"
      },
      "execution_count": 36,
      "outputs": [
        {
          "output_type": "stream",
          "name": "stdout",
          "text": [
            "['Korea', 'Rica', 'Arabia']\n",
            "['1', 'Belgium', '7', '16', '12', '3', '0', '0', '0', '0', '0', '12', '1', '1', '11', '0', '0', '2', 'Croatia', '7', '14', '18', '2', '0', '0', '0', '0', '0', '8', '2', '1', '15', '0', '0', '3', 'France', '7', '14', '10', '2', '0', '0', '0', '0', '0', '6', '3', '3', '12', '0', '0', '4', 'England', '7', '12', '11', '5', '0', '0', '0', '0', '0', '6', '3', '3', '8', '0', '0', '5', 'Russia', '5', '11', '14', '3', '0', '0', '0', '0', '0', '8', '1', '1', '7', '0', '1', '6', 'Brazil', '5', '8', '6', '2', '0', '0', '0', '0', '0', '6', '0', '0', '7', '0', '0', '7', 'Spain', '4', '7', '9', '0', '0', '0', '0', '0', '0', '3', '0', '0', '2', '0', '0', '8', 'Uruguay', '5', '7', '4', '2', '0', '0', '0', '0', '0', '4', '0', '0', '3', '0', '0', '9', 'Argentina', '4', '6', '5', '1', '0', '0', '0', '0', '0', '6', '1', '0', '11', '0', '0', '10', 'Colombia', '4', '6', '6', '3', '0', '0', '0', '0', '0', '5', '0', '0', '9', '1', '0', '11', 'Japan', '4', '6', '5', '1', '0', '0', '0', '0', '0', '5', '1', '1', '5', '0', '0', '12', 'Portugal', '4', '6', '4', '2', '0', '0', '0', '0', '0', '4', '2', '1', '7', '0', '0', '13', 'Sweden', '5', '6', '5', '0', '0', '0', '0', '0', '0', '3', '2', '2', '8', '0', '0', '14', 'Switzerland', '4', '5', '4', '1', '0', '0', '0', '0', '0', '4', '0', '0', '9', '1', '0', '15', 'Tunisia', '3', '5', '4', '1', '0', '0', '0', '0', '0', '4', '1', '1', '4', '0', '0', '16', 'Senegal', '3', '4', '3', '0', '0', '0', '0', '0', '0', '1', '0', '0', '6', '0', '0', '17', 'Denmark', '4', '3', '5', '0', '0', '0', '0', '0', '0', '3', '0', '0', '3', '0', '0', '18', 'Mexico', '4', '3', '3', '0', '0', '0', '0', '0', '0', '2', '1', '1', '9', '0', '0', '19', 'Nigeria', '3', '3', '3', '0', '0', '0', '0', '0', '0', '2', '1', '1', '4', '0', '0', '20', 'South Korea', '3', '3', '3', '0', '0', '0', '0', '0', '0', '2', '0', '0', '10', '0', '0', '21', 'Australia', '3', '2', '2', '0', '0', '0', '0', '0', '0', '0', '2', '2', '7', '0', '0', '22', 'Costa Rica', '3', '2', '0', '1', '0', '0', '0', '0', '0', '1', '1', '0', '6', '0', '0', '23', 'Egypt', '3', '2', '2', '0', '0', '0', '0', '0', '0', '1', '1', '1', '5', '0', '0', '24', 'Germany', '3', '2', '2', '0', '0', '0', '0', '0', '0', '2', '0', '0', '3', '0', '1', '25', 'Iceland', '3', '2', '2', '0', '0', '0', '0', '0', '0', '0', '2', '1', '3', '0', '0', '26', 'Iran', '3', '2', '1', '0', '0', '0', '0', '0', '0', '0', '1', '1', '7', '0', '0', '27', 'Morocco', '3', '2', '1', '1', '0', '0', '0', '0', '0', '1', '0', '0', '8', '0', '0', '28', 'Panama', '3', '2', '1', '0', '0', '0', '0', '0', '0', '1', '0', '0', '11', '0', '0', '29', 'Peru', '3', '2', '2', '0', '0', '0', '0', '0', '0', '1', '1', '0', '5', '0', '0', '30', 'Poland', '3', '2', '1', '1', '0', '0', '0', '0', '0', '2', '0', '0', '3', '0', '0', '31', 'Saudi Arabia', '3', '2', '2', '0', '0', '0', '0', '0', '0', '1', '2', '1', '1', '0', '0', '32', 'Serbia', '3', '2', '1', '1', '0', '0', '0', '0', '0', '1', '0', '0', '9', '0', '0']\n"
          ]
        }
      ]
    },
    {
      "cell_type": "markdown",
      "source": [
        "Now, let's gather each country data in a separated list"
      ],
      "metadata": {
        "id": "nz_rpOHKhAj-"
      }
    },
    {
      "cell_type": "code",
      "source": [
        "count, team, teams = 1, [], []\n",
        "\n",
        "for Team_stats in Teams_stats_list:    \n",
        "  if len(team) == 16:\n",
        "    team.append(Team_stats)\n",
        "    teams.append(team)\n",
        "    print(team)\n",
        "    team = []\n",
        "  else:\n",
        "    team.append(Team_stats)\n",
        "\n",
        "  count += 1 \n",
        "\n",
        "print(teams)"
      ],
      "metadata": {
        "colab": {
          "base_uri": "https://localhost:8080/"
        },
        "id": "sRfM7btB3QsD",
        "outputId": "21172a31-cd55-42a5-b860-4e49c180460d"
      },
      "execution_count": 49,
      "outputs": [
        {
          "output_type": "stream",
          "name": "stdout",
          "text": [
            "['1', 'Belgium', '7', '16', '12', '3', '0', '0', '0', '0', '0', '12', '1', '1', '11', '0', '0']\n",
            "['2', 'Croatia', '7', '14', '18', '2', '0', '0', '0', '0', '0', '8', '2', '1', '15', '0', '0']\n",
            "['3', 'France', '7', '14', '10', '2', '0', '0', '0', '0', '0', '6', '3', '3', '12', '0', '0']\n",
            "['4', 'England', '7', '12', '11', '5', '0', '0', '0', '0', '0', '6', '3', '3', '8', '0', '0']\n",
            "['5', 'Russia', '5', '11', '14', '3', '0', '0', '0', '0', '0', '8', '1', '1', '7', '0', '1']\n",
            "['6', 'Brazil', '5', '8', '6', '2', '0', '0', '0', '0', '0', '6', '0', '0', '7', '0', '0']\n",
            "['7', 'Spain', '4', '7', '9', '0', '0', '0', '0', '0', '0', '3', '0', '0', '2', '0', '0']\n",
            "['8', 'Uruguay', '5', '7', '4', '2', '0', '0', '0', '0', '0', '4', '0', '0', '3', '0', '0']\n",
            "['9', 'Argentina', '4', '6', '5', '1', '0', '0', '0', '0', '0', '6', '1', '0', '11', '0', '0']\n",
            "['10', 'Colombia', '4', '6', '6', '3', '0', '0', '0', '0', '0', '5', '0', '0', '9', '1', '0']\n",
            "['11', 'Japan', '4', '6', '5', '1', '0', '0', '0', '0', '0', '5', '1', '1', '5', '0', '0']\n",
            "['12', 'Portugal', '4', '6', '4', '2', '0', '0', '0', '0', '0', '4', '2', '1', '7', '0', '0']\n",
            "['13', 'Sweden', '5', '6', '5', '0', '0', '0', '0', '0', '0', '3', '2', '2', '8', '0', '0']\n",
            "['14', 'Switzerland', '4', '5', '4', '1', '0', '0', '0', '0', '0', '4', '0', '0', '9', '1', '0']\n",
            "['15', 'Tunisia', '3', '5', '4', '1', '0', '0', '0', '0', '0', '4', '1', '1', '4', '0', '0']\n",
            "['16', 'Senegal', '3', '4', '3', '0', '0', '0', '0', '0', '0', '1', '0', '0', '6', '0', '0']\n",
            "['17', 'Denmark', '4', '3', '5', '0', '0', '0', '0', '0', '0', '3', '0', '0', '3', '0', '0']\n",
            "['18', 'Mexico', '4', '3', '3', '0', '0', '0', '0', '0', '0', '2', '1', '1', '9', '0', '0']\n",
            "['19', 'Nigeria', '3', '3', '3', '0', '0', '0', '0', '0', '0', '2', '1', '1', '4', '0', '0']\n",
            "['20', 'South Korea', '3', '3', '3', '0', '0', '0', '0', '0', '0', '2', '0', '0', '10', '0', '0']\n",
            "['21', 'Australia', '3', '2', '2', '0', '0', '0', '0', '0', '0', '0', '2', '2', '7', '0', '0']\n",
            "['22', 'Costa Rica', '3', '2', '0', '1', '0', '0', '0', '0', '0', '1', '1', '0', '6', '0', '0']\n",
            "['23', 'Egypt', '3', '2', '2', '0', '0', '0', '0', '0', '0', '1', '1', '1', '5', '0', '0']\n",
            "['24', 'Germany', '3', '2', '2', '0', '0', '0', '0', '0', '0', '2', '0', '0', '3', '0', '1']\n",
            "['25', 'Iceland', '3', '2', '2', '0', '0', '0', '0', '0', '0', '0', '2', '1', '3', '0', '0']\n",
            "['26', 'Iran', '3', '2', '1', '0', '0', '0', '0', '0', '0', '0', '1', '1', '7', '0', '0']\n",
            "['27', 'Morocco', '3', '2', '1', '1', '0', '0', '0', '0', '0', '1', '0', '0', '8', '0', '0']\n",
            "['28', 'Panama', '3', '2', '1', '0', '0', '0', '0', '0', '0', '1', '0', '0', '11', '0', '0']\n",
            "['29', 'Peru', '3', '2', '2', '0', '0', '0', '0', '0', '0', '1', '1', '0', '5', '0', '0']\n",
            "['30', 'Poland', '3', '2', '1', '1', '0', '0', '0', '0', '0', '2', '0', '0', '3', '0', '0']\n",
            "['31', 'Saudi Arabia', '3', '2', '2', '0', '0', '0', '0', '0', '0', '1', '2', '1', '1', '0', '0']\n",
            "['32', 'Serbia', '3', '2', '1', '1', '0', '0', '0', '0', '0', '1', '0', '0', '9', '0', '0']\n",
            "[['1', 'Belgium', '7', '16', '12', '3', '0', '0', '0', '0', '0', '12', '1', '1', '11', '0', '0'], ['2', 'Croatia', '7', '14', '18', '2', '0', '0', '0', '0', '0', '8', '2', '1', '15', '0', '0'], ['3', 'France', '7', '14', '10', '2', '0', '0', '0', '0', '0', '6', '3', '3', '12', '0', '0'], ['4', 'England', '7', '12', '11', '5', '0', '0', '0', '0', '0', '6', '3', '3', '8', '0', '0'], ['5', 'Russia', '5', '11', '14', '3', '0', '0', '0', '0', '0', '8', '1', '1', '7', '0', '1'], ['6', 'Brazil', '5', '8', '6', '2', '0', '0', '0', '0', '0', '6', '0', '0', '7', '0', '0'], ['7', 'Spain', '4', '7', '9', '0', '0', '0', '0', '0', '0', '3', '0', '0', '2', '0', '0'], ['8', 'Uruguay', '5', '7', '4', '2', '0', '0', '0', '0', '0', '4', '0', '0', '3', '0', '0'], ['9', 'Argentina', '4', '6', '5', '1', '0', '0', '0', '0', '0', '6', '1', '0', '11', '0', '0'], ['10', 'Colombia', '4', '6', '6', '3', '0', '0', '0', '0', '0', '5', '0', '0', '9', '1', '0'], ['11', 'Japan', '4', '6', '5', '1', '0', '0', '0', '0', '0', '5', '1', '1', '5', '0', '0'], ['12', 'Portugal', '4', '6', '4', '2', '0', '0', '0', '0', '0', '4', '2', '1', '7', '0', '0'], ['13', 'Sweden', '5', '6', '5', '0', '0', '0', '0', '0', '0', '3', '2', '2', '8', '0', '0'], ['14', 'Switzerland', '4', '5', '4', '1', '0', '0', '0', '0', '0', '4', '0', '0', '9', '1', '0'], ['15', 'Tunisia', '3', '5', '4', '1', '0', '0', '0', '0', '0', '4', '1', '1', '4', '0', '0'], ['16', 'Senegal', '3', '4', '3', '0', '0', '0', '0', '0', '0', '1', '0', '0', '6', '0', '0'], ['17', 'Denmark', '4', '3', '5', '0', '0', '0', '0', '0', '0', '3', '0', '0', '3', '0', '0'], ['18', 'Mexico', '4', '3', '3', '0', '0', '0', '0', '0', '0', '2', '1', '1', '9', '0', '0'], ['19', 'Nigeria', '3', '3', '3', '0', '0', '0', '0', '0', '0', '2', '1', '1', '4', '0', '0'], ['20', 'South Korea', '3', '3', '3', '0', '0', '0', '0', '0', '0', '2', '0', '0', '10', '0', '0'], ['21', 'Australia', '3', '2', '2', '0', '0', '0', '0', '0', '0', '0', '2', '2', '7', '0', '0'], ['22', 'Costa Rica', '3', '2', '0', '1', '0', '0', '0', '0', '0', '1', '1', '0', '6', '0', '0'], ['23', 'Egypt', '3', '2', '2', '0', '0', '0', '0', '0', '0', '1', '1', '1', '5', '0', '0'], ['24', 'Germany', '3', '2', '2', '0', '0', '0', '0', '0', '0', '2', '0', '0', '3', '0', '1'], ['25', 'Iceland', '3', '2', '2', '0', '0', '0', '0', '0', '0', '0', '2', '1', '3', '0', '0'], ['26', 'Iran', '3', '2', '1', '0', '0', '0', '0', '0', '0', '0', '1', '1', '7', '0', '0'], ['27', 'Morocco', '3', '2', '1', '1', '0', '0', '0', '0', '0', '1', '0', '0', '8', '0', '0'], ['28', 'Panama', '3', '2', '1', '0', '0', '0', '0', '0', '0', '1', '0', '0', '11', '0', '0'], ['29', 'Peru', '3', '2', '2', '0', '0', '0', '0', '0', '0', '1', '1', '0', '5', '0', '0'], ['30', 'Poland', '3', '2', '1', '1', '0', '0', '0', '0', '0', '2', '0', '0', '3', '0', '0'], ['31', 'Saudi Arabia', '3', '2', '2', '0', '0', '0', '0', '0', '0', '1', '2', '1', '1', '0', '0'], ['32', 'Serbia', '3', '2', '1', '1', '0', '0', '0', '0', '0', '1', '0', '0', '9', '0', '0']]\n"
          ]
        }
      ]
    },
    {
      "cell_type": "code",
      "source": [
        "df= pd.DataFrame(teams,columns=[\"index\",\"Country\", \"GP\", \"GF\", \"KG\", \"HG\", \"1G\", \"2G\", \"GC\", \"1GC\", \"2GC\", \"A\", \"PK\", \"PKG\", \"YC\", \"RC\",\"YRC\"])  # inserting columns names\n",
        "df.head()"
      ],
      "metadata": {
        "colab": {
          "base_uri": "https://localhost:8080/",
          "height": 206
        },
        "id": "pe3pWP53dWhG",
        "outputId": "1a896a5a-59cc-4c99-d503-5b76b2c2ab22"
      },
      "execution_count": 42,
      "outputs": [
        {
          "output_type": "execute_result",
          "data": {
            "text/plain": [
              "  index  Country GP  GF  KG HG 1G 2G GC 1GC 2GC   A PK PKG  YC RC YRC\n",
              "0     1  Belgium  7  16  12  3  0  0  0   0   0  12  1   1  11  0   0\n",
              "1     2  Croatia  7  14  18  2  0  0  0   0   0   8  2   1  15  0   0\n",
              "2     3   France  7  14  10  2  0  0  0   0   0   6  3   3  12  0   0\n",
              "3     4  England  7  12  11  5  0  0  0   0   0   6  3   3   8  0   0\n",
              "4     5   Russia  5  11  14  3  0  0  0   0   0   8  1   1   7  0   1"
            ],
            "text/html": [
              "\n",
              "  <div id=\"df-9a909391-516b-495e-8401-faddff4224ef\">\n",
              "    <div class=\"colab-df-container\">\n",
              "      <div>\n",
              "<style scoped>\n",
              "    .dataframe tbody tr th:only-of-type {\n",
              "        vertical-align: middle;\n",
              "    }\n",
              "\n",
              "    .dataframe tbody tr th {\n",
              "        vertical-align: top;\n",
              "    }\n",
              "\n",
              "    .dataframe thead th {\n",
              "        text-align: right;\n",
              "    }\n",
              "</style>\n",
              "<table border=\"1\" class=\"dataframe\">\n",
              "  <thead>\n",
              "    <tr style=\"text-align: right;\">\n",
              "      <th></th>\n",
              "      <th>index</th>\n",
              "      <th>Country</th>\n",
              "      <th>GP</th>\n",
              "      <th>GF</th>\n",
              "      <th>KG</th>\n",
              "      <th>HG</th>\n",
              "      <th>1G</th>\n",
              "      <th>2G</th>\n",
              "      <th>GC</th>\n",
              "      <th>1GC</th>\n",
              "      <th>2GC</th>\n",
              "      <th>A</th>\n",
              "      <th>PK</th>\n",
              "      <th>PKG</th>\n",
              "      <th>YC</th>\n",
              "      <th>RC</th>\n",
              "      <th>YRC</th>\n",
              "    </tr>\n",
              "  </thead>\n",
              "  <tbody>\n",
              "    <tr>\n",
              "      <th>0</th>\n",
              "      <td>1</td>\n",
              "      <td>Belgium</td>\n",
              "      <td>7</td>\n",
              "      <td>16</td>\n",
              "      <td>12</td>\n",
              "      <td>3</td>\n",
              "      <td>0</td>\n",
              "      <td>0</td>\n",
              "      <td>0</td>\n",
              "      <td>0</td>\n",
              "      <td>0</td>\n",
              "      <td>12</td>\n",
              "      <td>1</td>\n",
              "      <td>1</td>\n",
              "      <td>11</td>\n",
              "      <td>0</td>\n",
              "      <td>0</td>\n",
              "    </tr>\n",
              "    <tr>\n",
              "      <th>1</th>\n",
              "      <td>2</td>\n",
              "      <td>Croatia</td>\n",
              "      <td>7</td>\n",
              "      <td>14</td>\n",
              "      <td>18</td>\n",
              "      <td>2</td>\n",
              "      <td>0</td>\n",
              "      <td>0</td>\n",
              "      <td>0</td>\n",
              "      <td>0</td>\n",
              "      <td>0</td>\n",
              "      <td>8</td>\n",
              "      <td>2</td>\n",
              "      <td>1</td>\n",
              "      <td>15</td>\n",
              "      <td>0</td>\n",
              "      <td>0</td>\n",
              "    </tr>\n",
              "    <tr>\n",
              "      <th>2</th>\n",
              "      <td>3</td>\n",
              "      <td>France</td>\n",
              "      <td>7</td>\n",
              "      <td>14</td>\n",
              "      <td>10</td>\n",
              "      <td>2</td>\n",
              "      <td>0</td>\n",
              "      <td>0</td>\n",
              "      <td>0</td>\n",
              "      <td>0</td>\n",
              "      <td>0</td>\n",
              "      <td>6</td>\n",
              "      <td>3</td>\n",
              "      <td>3</td>\n",
              "      <td>12</td>\n",
              "      <td>0</td>\n",
              "      <td>0</td>\n",
              "    </tr>\n",
              "    <tr>\n",
              "      <th>3</th>\n",
              "      <td>4</td>\n",
              "      <td>England</td>\n",
              "      <td>7</td>\n",
              "      <td>12</td>\n",
              "      <td>11</td>\n",
              "      <td>5</td>\n",
              "      <td>0</td>\n",
              "      <td>0</td>\n",
              "      <td>0</td>\n",
              "      <td>0</td>\n",
              "      <td>0</td>\n",
              "      <td>6</td>\n",
              "      <td>3</td>\n",
              "      <td>3</td>\n",
              "      <td>8</td>\n",
              "      <td>0</td>\n",
              "      <td>0</td>\n",
              "    </tr>\n",
              "    <tr>\n",
              "      <th>4</th>\n",
              "      <td>5</td>\n",
              "      <td>Russia</td>\n",
              "      <td>5</td>\n",
              "      <td>11</td>\n",
              "      <td>14</td>\n",
              "      <td>3</td>\n",
              "      <td>0</td>\n",
              "      <td>0</td>\n",
              "      <td>0</td>\n",
              "      <td>0</td>\n",
              "      <td>0</td>\n",
              "      <td>8</td>\n",
              "      <td>1</td>\n",
              "      <td>1</td>\n",
              "      <td>7</td>\n",
              "      <td>0</td>\n",
              "      <td>1</td>\n",
              "    </tr>\n",
              "  </tbody>\n",
              "</table>\n",
              "</div>\n",
              "      <button class=\"colab-df-convert\" onclick=\"convertToInteractive('df-9a909391-516b-495e-8401-faddff4224ef')\"\n",
              "              title=\"Convert this dataframe to an interactive table.\"\n",
              "              style=\"display:none;\">\n",
              "        \n",
              "  <svg xmlns=\"http://www.w3.org/2000/svg\" height=\"24px\"viewBox=\"0 0 24 24\"\n",
              "       width=\"24px\">\n",
              "    <path d=\"M0 0h24v24H0V0z\" fill=\"none\"/>\n",
              "    <path d=\"M18.56 5.44l.94 2.06.94-2.06 2.06-.94-2.06-.94-.94-2.06-.94 2.06-2.06.94zm-11 1L8.5 8.5l.94-2.06 2.06-.94-2.06-.94L8.5 2.5l-.94 2.06-2.06.94zm10 10l.94 2.06.94-2.06 2.06-.94-2.06-.94-.94-2.06-.94 2.06-2.06.94z\"/><path d=\"M17.41 7.96l-1.37-1.37c-.4-.4-.92-.59-1.43-.59-.52 0-1.04.2-1.43.59L10.3 9.45l-7.72 7.72c-.78.78-.78 2.05 0 2.83L4 21.41c.39.39.9.59 1.41.59.51 0 1.02-.2 1.41-.59l7.78-7.78 2.81-2.81c.8-.78.8-2.07 0-2.86zM5.41 20L4 18.59l7.72-7.72 1.47 1.35L5.41 20z\"/>\n",
              "  </svg>\n",
              "      </button>\n",
              "      \n",
              "  <style>\n",
              "    .colab-df-container {\n",
              "      display:flex;\n",
              "      flex-wrap:wrap;\n",
              "      gap: 12px;\n",
              "    }\n",
              "\n",
              "    .colab-df-convert {\n",
              "      background-color: #E8F0FE;\n",
              "      border: none;\n",
              "      border-radius: 50%;\n",
              "      cursor: pointer;\n",
              "      display: none;\n",
              "      fill: #1967D2;\n",
              "      height: 32px;\n",
              "      padding: 0 0 0 0;\n",
              "      width: 32px;\n",
              "    }\n",
              "\n",
              "    .colab-df-convert:hover {\n",
              "      background-color: #E2EBFA;\n",
              "      box-shadow: 0px 1px 2px rgba(60, 64, 67, 0.3), 0px 1px 3px 1px rgba(60, 64, 67, 0.15);\n",
              "      fill: #174EA6;\n",
              "    }\n",
              "\n",
              "    [theme=dark] .colab-df-convert {\n",
              "      background-color: #3B4455;\n",
              "      fill: #D2E3FC;\n",
              "    }\n",
              "\n",
              "    [theme=dark] .colab-df-convert:hover {\n",
              "      background-color: #434B5C;\n",
              "      box-shadow: 0px 1px 3px 1px rgba(0, 0, 0, 0.15);\n",
              "      filter: drop-shadow(0px 1px 2px rgba(0, 0, 0, 0.3));\n",
              "      fill: #FFFFFF;\n",
              "    }\n",
              "  </style>\n",
              "\n",
              "      <script>\n",
              "        const buttonEl =\n",
              "          document.querySelector('#df-9a909391-516b-495e-8401-faddff4224ef button.colab-df-convert');\n",
              "        buttonEl.style.display =\n",
              "          google.colab.kernel.accessAllowed ? 'block' : 'none';\n",
              "\n",
              "        async function convertToInteractive(key) {\n",
              "          const element = document.querySelector('#df-9a909391-516b-495e-8401-faddff4224ef');\n",
              "          const dataTable =\n",
              "            await google.colab.kernel.invokeFunction('convertToInteractive',\n",
              "                                                     [key], {});\n",
              "          if (!dataTable) return;\n",
              "\n",
              "          const docLinkHtml = 'Like what you see? Visit the ' +\n",
              "            '<a target=\"_blank\" href=https://colab.research.google.com/notebooks/data_table.ipynb>data table notebook</a>'\n",
              "            + ' to learn more about interactive tables.';\n",
              "          element.innerHTML = '';\n",
              "          dataTable['output_type'] = 'display_data';\n",
              "          await google.colab.output.renderOutput(dataTable, element);\n",
              "          const docLink = document.createElement('div');\n",
              "          docLink.innerHTML = docLinkHtml;\n",
              "          element.appendChild(docLink);\n",
              "        }\n",
              "      </script>\n",
              "    </div>\n",
              "  </div>\n",
              "  "
            ]
          },
          "metadata": {},
          "execution_count": 42
        }
      ]
    }
  ]
}